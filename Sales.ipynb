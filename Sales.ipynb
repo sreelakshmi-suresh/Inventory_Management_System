{
  "nbformat": 4,
  "nbformat_minor": 0,
  "metadata": {
    "colab": {
      "name": "Sales.ipynb",
      "provenance": []
    },
    "kernelspec": {
      "name": "python3",
      "display_name": "Python 3"
    },
    "language_info": {
      "name": "python"
    }
  },
  "cells": [
    {
      "cell_type": "code",
      "metadata": {
        "id": "lcVh6rE08iz_"
      },
      "source": [
        "#importing json and datetime\n",
        "import json\n",
        "from datetime import datetime \n",
        "now = datetime.now()"
      ],
      "execution_count": 2,
      "outputs": []
    },
    {
      "cell_type": "code",
      "metadata": {
        "id": "_3k7KoBg-Fwz"
      },
      "source": [
        "#Loading json data from inventory_records.\n",
        "file =open(\"inventory_records.json\",'r')\n",
        "r=file.read()\n",
        "file.close()\n",
        "data =json.loads(r)"
      ],
      "execution_count": 3,
      "outputs": []
    },
    {
      "cell_type": "code",
      "metadata": {
        "id": "wYzBV-s7-OdM"
      },
      "source": [
        "#Loading json data from sales_records.\n",
        "file =open(\"sales_records.json\",'r')\n",
        "r=file.read()\n",
        "file.close()\n",
        "\n",
        "info = json.loads(r)"
      ],
      "execution_count": 4,
      "outputs": []
    },
    {
      "cell_type": "code",
      "metadata": {
        "id": "j6ybtnSg64m8"
      },
      "source": [
        "#Function to display the menu.\n",
        "def menu():\n",
        "    print('---------------------------------------------------')\n",
        "    print('Welcome! What would you like to do today?')\n",
        "    print('---------------------------------------------------')\n",
        "    print('1: View the list of items')\n",
        "    print('2: Buy a product')\n",
        "    print('3: Exit')\n",
        "    ch = int(input(\"Enter choice: \"))\n",
        "    select(ch)"
      ],
      "execution_count": 5,
      "outputs": []
    },
    {
      "cell_type": "code",
      "metadata": {
        "id": "Awioa6hc7dKd"
      },
      "source": [
        "def select(ch):\n",
        "  if ch == 1:\n",
        "    itemlist()\n",
        "  elif ch == 2:\n",
        "    buypro()\n",
        "  elif ch == 3:\n",
        "    exit()\n",
        "  else:\n",
        "    print(\"Enter the valid option\")\n",
        "    menu()"
      ],
      "execution_count": 6,
      "outputs": []
    },
    {
      "cell_type": "code",
      "metadata": {
        "id": "vq_7Y0b_75v6"
      },
      "source": [
        "#Displaying the list of all the items\n",
        "def itemlist():\n",
        "  print(\"-------------------------------------------------------\")\n",
        "  print(\"List of all the products: \")\n",
        "  print(\"-------------------------------------------------------\")\n",
        "  for key in data:\n",
        "    print(key, \" | \",data[key]['name'])\n",
        "  ip=(input(\"Do you want to continue(y/n)?: \"))\n",
        "  if ip== 'y' or ip== 'Y':\n",
        "    menu()\n",
        "  else:\n",
        "    exit()"
      ],
      "execution_count": 7,
      "outputs": []
    },
    {
      "cell_type": "code",
      "metadata": {
        "id": "XfWWzGSV8Qbm"
      },
      "source": [
        "#Buying products and generation of bill.\n",
        "def buypro():\n",
        "  #Getting user input.\n",
        "  pro_id= str(input(\"Enter the id of the product: \"))\n",
        "  pro_qn= int(input(\"Enter the quantity:\"))\n",
        "  if pro_id not in data:\n",
        "    print(\"Please enter a valid id\")\n",
        "  elif pro_qn > data[pro_id]['quantity']:\n",
        "    print(\"Not enough stocks!. Please enter the quantity less than or equal to the stocks left.\\n Total Stocks left:\",data[pro_id]['quantity'])\n",
        "  else:\n",
        "    print(\"--------------------------------------------------------------------\")\n",
        "    print(\"Product id:             |\",pro_id)\n",
        "    print(\"Product name:           |\",data[pro_id]['name'])\n",
        "    print(\"Product price per unit: |\",data[pro_id]['price'])\n",
        "    print(\"Product description:    |\",data[pro_id]['desp'])\n",
        "    print(\"Product type:           |\",data[pro_id]['type'])\n",
        "    print(\"------------------------|-------------------------------------------\")\n",
        "    print(\"Total Amount:           |\",data[pro_id]['price'] * (pro_qn))\n",
        "    print(\"--------------------------------------------------------------------\")\n",
        "\n",
        "    total= data[pro_id]['price'] * (pro_qn)\n",
        "    st = data[pro_id]['quantity']\n",
        "\n",
        "    #Updating the number of stocks by reducing the user input quantity.\n",
        "    data[pro_id]['quantity']=data[pro_id]['quantity'] - pro_qn\n",
        "\n",
        "    js=json.dumps(data)\n",
        "    \n",
        "    #Writing into json file\n",
        "    file=open('inventory_records.json','w')\n",
        "    file.write(js)\n",
        "    file.close()\n",
        "  \n",
        "    #To print the date and time\n",
        "    date_time = now.strftime(\"%m/%d/%Y, %H:%M:%S\")\n",
        "  \n",
        "  \n",
        "    temp= [{'date':date_time,'qn_sold':pro_qn,'stock_left':st,'total':total}]\n",
        " \n",
        "\n",
        "    if pro_id not in info:\n",
        "      info[pro_id]=temp\n",
        "    else:\n",
        "      info[pro_id].append(temp)\n",
        "\n",
        "    ud=json.dumps(info)\n",
        "\n",
        "    file=open('sales_records.json','w')\n",
        "    file.write(ud)\n",
        "    file.close()\n",
        "\n",
        "    ip=(input(\"Do you want to continue(y/n)?: \"))\n",
        "    if ip== 'y' or ip== 'Y':\n",
        "      menu()\n",
        "    else:\n",
        "      exit()\n"
      ],
      "execution_count": 8,
      "outputs": []
    },
    {
      "cell_type": "code",
      "metadata": {
        "colab": {
          "base_uri": "https://localhost:8080/"
        },
        "id": "y-hUuxjr91ZB",
        "outputId": "3e3aa535-19fa-4c41-8d12-ebbced1e4335"
      },
      "source": [
        "menu()"
      ],
      "execution_count": 9,
      "outputs": [
        {
          "name": "stdout",
          "output_type": "stream",
          "text": [
            "---------------------------------------------------\n",
            "Welcome! What would you like to do today?\n",
            "---------------------------------------------------\n",
            "1: View the list of items\n",
            "2: Buy a product\n",
            "3: Exit\n",
            "Enter choice: 1\n",
            "-------------------------------------------------------\n",
            "List of all the products: \n",
            "-------------------------------------------------------\n",
            "101  |  Icecream\n",
            "102  |  DairyMilk Cadbury\n",
            "103  |  Parle Happy Happy Cookies\n",
            "104  |  Amul Shrikhand\n",
            "105  |  Venkys Frozen Nuggets\n",
            "106  |  Royal Cashewnuts\n",
            "107  |  Royal Almonds\n",
            "108  |  Royal Pistachio\n",
            "109  |  Herbal Tea\n",
            "110  |  Top Noodles (Veg)\n",
            "111  |  Top Noodles(Non Veg)\n",
            "112  |  Fresh Milk Bread.\n",
            "113  |  Fresh Wheat Bread\n",
            "114  |  Cup Noodles\n",
            "115  |  Cup Noodles (Non-veg)\n",
            "116  |  Lays\n",
            "117  |  Purity Apple sauce\n",
            "118  |  Mr. Tomato Sauce\n",
            "119  |  Mr. Red Chilly Sauce\n",
            "120  |  Mr. Green Chilly Sauce\n",
            "121  |  Mr. Soy Sauce\n",
            "122  |  Oats\n",
            "123  |  Fresh Milk\n",
            "124  |  Rasna\n",
            "125  |   Fruity Splash\n",
            "126  |  Royal Dates\n",
            "127  |  Royal Groundnuts\n",
            "128  |  Coffee powder\n",
            "129  |  Doughnuts\n",
            "130  |  Water \n",
            "131  |  Good Day Cookies\n",
            "Do you want to continue(y/n)?: y\n",
            "---------------------------------------------------\n",
            "Welcome! What would you like to do today?\n",
            "---------------------------------------------------\n",
            "1: View the list of items\n",
            "2: Buy a product\n",
            "3: Exit\n",
            "Enter choice: 2\n",
            "Enter the id of the product: 130\n",
            "Enter the quantity:1\n",
            "--------------------------------------------------------------------\n",
            "Product id:             | 130\n",
            "Product name:           | Water \n",
            "Product price per unit: | 15\n",
            "Product description:    | Cool Mineral water\n",
            "Product type:           | veg\n",
            "------------------------|-------------------------------------------\n",
            "Total Amount:           | 15\n",
            "--------------------------------------------------------------------\n",
            "Do you want to continue(y/n)?: y\n",
            "---------------------------------------------------\n",
            "Welcome! What would you like to do today?\n",
            "---------------------------------------------------\n",
            "1: View the list of items\n",
            "2: Buy a product\n",
            "3: Exit\n",
            "Enter choice: 7\n",
            "Enter the valid option\n",
            "---------------------------------------------------\n",
            "Welcome! What would you like to do today?\n",
            "---------------------------------------------------\n",
            "1: View the list of items\n",
            "2: Buy a product\n",
            "3: Exit\n",
            "Enter choice: 3\n"
          ]
        }
      ]
    }
  ]
}