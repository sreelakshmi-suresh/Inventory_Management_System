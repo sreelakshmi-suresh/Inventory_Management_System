{
  "nbformat": 4,
  "nbformat_minor": 0,
  "metadata": {
    "colab": {
      "name": "Inventory_Management.ipynb",
      "provenance": [],
      "collapsed_sections": []
    },
    "kernelspec": {
      "name": "python3",
      "display_name": "Python 3"
    },
    "language_info": {
      "name": "python"
    }
  },
  "cells": [
    {
      "cell_type": "code",
      "metadata": {
        "id": "cwhH67zi_9H_"
      },
      "source": [
        "#importing json\n",
        "\n",
        "import json"
      ],
      "execution_count": 2,
      "outputs": []
    },
    {
      "cell_type": "code",
      "metadata": {
        "id": "jvBl2qCsQJQL"
      },
      "source": [
        "#Loading json data from inventory_records.\n",
        "file =open(\"inventory_records.json\",'r')\n",
        "r=file.read()\n",
        "file.close()\n",
        "record =json.loads(r)"
      ],
      "execution_count": 3,
      "outputs": []
    },
    {
      "cell_type": "code",
      "metadata": {
        "id": "6BCimNeJQPpe"
      },
      "source": [
        "#Loading json data from sales_records.\n",
        "file =open(\"sales_records.json\",'r')\n",
        "r=file.read()\n",
        "file.close()\n",
        "\n",
        "info = json.loads(r)"
      ],
      "execution_count": 4,
      "outputs": []
    },
    {
      "cell_type": "code",
      "metadata": {
        "id": "a1XLsSSOQu5g"
      },
      "source": [
        "#Function to display the menu.\n",
        "def menu():\n",
        "    print('---------------------------------------------------')\n",
        "    print('Welcome! What would you like to do today?')\n",
        "    print('---------------------------------------------------')\n",
        "    print('1: View total number of items')\n",
        "    print('2: View the list of the items')\n",
        "    print('3: Add product to inventory')\n",
        "    print('4: Know Sales')\n",
        "    print('5: Know the details of the stocks left')#Gives the quantity of the product\n",
        "    print('6: Update Inventory')\n",
        "    print('7: Exit')\n",
        "    ch = int(input(\"Enter choice: \"))\n",
        "    select(ch)"
      ],
      "execution_count": 5,
      "outputs": []
    },
    {
      "cell_type": "code",
      "metadata": {
        "id": "SVeBGNLZSMsL"
      },
      "source": [
        "def select(ch):\n",
        "  if ch == 1:\n",
        "    total()\n",
        "  elif ch == 2:\n",
        "    listitems()\n",
        "  elif ch == 3:\n",
        "    add()\n",
        "  elif ch == 4:\n",
        "    knowsales()\n",
        "  elif ch == 5:\n",
        "    rem_sto()\n",
        "  elif ch == 6:\n",
        "    upd()\n",
        "  elif ch == 7:\n",
        "    exit()\n",
        "  else:\n",
        "    print(\"Enter the valid choice!\")\n",
        "    menu()"
      ],
      "execution_count": 1,
      "outputs": []
    },
    {
      "cell_type": "code",
      "metadata": {
        "id": "7nfKPqtFSZI9"
      },
      "source": [
        "#total no of items in the inventory.\n",
        "def total():\n",
        "  print(\"Total no of items in the inventory: \",len(record))\n",
        "  ip=(input(\"Do you want to continue(y/n)?: \"))\n",
        "  if ip== 'y' or ip== 'Y':\n",
        "    menu()\n",
        "  else:\n",
        "    exit()\n"
      ],
      "execution_count": 6,
      "outputs": []
    },
    {
      "cell_type": "code",
      "metadata": {
        "id": "q_rAoLidC9IR"
      },
      "source": [
        "#List of items.\n",
        "def listitems():\n",
        "  print(\"-------------------------------------------------------\")\n",
        "  print(\"List of all the products: \")\n",
        "  print(\"-------------------------------------------------------\")\n",
        "  for key in record:\n",
        "    print(key, \" | \",record[key]['name'])\n",
        "  ip=(input(\"Do you want to continue(y/n)?: \"))\n",
        "  if ip== 'y' or ip== 'Y':\n",
        "    menu()\n",
        "  else:\n",
        "    exit()"
      ],
      "execution_count": 7,
      "outputs": []
    },
    {
      "cell_type": "code",
      "metadata": {
        "id": "9uI5HhrKTFY7"
      },
      "source": [
        "#Adding items to the inventory\n",
        "def add():\n",
        "  while(1):\n",
        "    ans= str(input(\"Do you want to add items to the inventory(y/n)? \"))\n",
        "    if(ans==\"n\" or ans ==\"N\"):\n",
        "      print(\"Inventory up to date.\")\n",
        "      break\n",
        "    elif(ans==\"y\" or ans ==\"Y\"):\n",
        "      prod_id= str(input(\"Enter the product id:\" ))\n",
        "      name = str(input(\"Enter the name of the product:\" ))\n",
        "      pr= int(input(\"Enter the price of the product:\" ))\n",
        "      desp = str(input(\"Enter the product description:\" ))\n",
        "      qn= int(input(\"Enter the quantity:\" ))\n",
        "      ty= str(input(\"Enter the type(veg/non-veg):\" ))\n",
        "      record[prod_id]={'name':name,'price':pr,'desp':desp,'quantity':qn,'type':ty}\n",
        "    \n",
        "      js=json.dumps(record)\n",
        "    \n",
        "      file=open('inventory_records.json','w')\n",
        "      file.write(js)\n",
        "      file.close()\n",
        "      print(\"Item added successfully!!\")\n",
        "      print(\"Total no of items in the inventory: \",len(record))\n",
        "    \n",
        "  ip=(input(\"Do you want to continue(y/n)?: \"))\n",
        "  if ip== 'y' or ip== 'Y':\n",
        "    menu()\n",
        "  else:\n",
        "    exit()\n",
        "\n"
      ],
      "execution_count": 8,
      "outputs": []
    },
    {
      "cell_type": "code",
      "metadata": {
        "id": "DwP_KWKjTltg"
      },
      "source": [
        "#Know the Sales so far\n",
        "def knowsales():\n",
        "  u_id = (input(\"Enter the id:\"))\n",
        "  print(info[u_id])\n",
        "  ip=(input(\"Do you want to continue(y/n)?: \"))\n",
        "  if ip== 'y' or ip== 'Y':\n",
        "    menu()\n",
        "  else:\n",
        "    exit()"
      ],
      "execution_count": 9,
      "outputs": []
    },
    {
      "cell_type": "code",
      "metadata": {
        "id": "FM_NzlhbUazE"
      },
      "source": [
        "#Remaining quantity of the product in the inventory\n",
        "def rem_sto():\n",
        "  while(1):\n",
        "    ans=str(input(\"Do you want to check the quantity of any product(y/n)\"))\n",
        "    if(ans==\"n\" or ans ==\"N\"): \n",
        "      break\n",
        "    elif(ans==\"y\" or ans ==\"Y\"):\n",
        "      id=str(input(\"Please enter the product id: \"))\n",
        "      file = open('inventory_records.json','r')\n",
        "      r=file.read()\n",
        "      file.close()\n",
        "    \n",
        "      data = json.loads(r)\n",
        "      if id not in data:\n",
        "        print(\"Please enter a valid id!\")\n",
        "      else:\n",
        "        print(\"--------------------------------------------------------\")\n",
        "        print(\"Product id:         |\",id)\n",
        "        print(\"Product name:       |\",data[id]['name'])\n",
        "        print(\"Product price:      |\",data[id]['price'])\n",
        "        print(\"--------------------------------------------------------\")\n",
        "        print(\"Stocks left:        |\",data[id]['quantity'])\n",
        "        print(\"--------------------------------------------------------\")\n",
        "      \n",
        "\n",
        "  ip=(input(\"Do you want to continue(y/n)?: \"))\n",
        "  if ip== 'y' or ip== 'Y':\n",
        "    menu()\n",
        "  else:\n",
        "    exit()\n",
        "        "
      ],
      "execution_count": 10,
      "outputs": []
    },
    {
      "cell_type": "code",
      "metadata": {
        "id": "Wg5twBJSDTg_"
      },
      "source": [
        "#Updating the data of a certain product\n",
        "def upd():\n",
        "  usr_id =input(\"Enter the id: \")\n",
        "  if usr_id not in record:\n",
        "        print(\"Please enter a valid id!\")\n",
        "  else:\n",
        "       print(\"--------------------------------------------------------\")\n",
        "       print(\"Product id:         |\",usr_id)\n",
        "       print(\"Product name:       |\",record[usr_id]['name'])\n",
        "       print(\"Product price:      |\",record[usr_id]['price'])\n",
        "       print(\"Description:        |\",record[usr_id]['desp'])\n",
        "       print(\"Product type:       |\",record[usr_id]['type'])\n",
        "       print(\"--------------------------------------------------------\")\n",
        "       print(\"Stocks left:        |\",record[usr_id]['quantity'])\n",
        "       print(\"--------------------------------------------------------\")\n",
        "       def upmenu():\n",
        "         print(\"What would you like to update:?\")\n",
        "         print(\"1: Name\")\n",
        "         print(\"2: Price\")\n",
        "         print(\"3: Description\")\n",
        "         print(\"4: Stocks left\")\n",
        "         print(\"5: Change type\")\n",
        "         choice= int(input(\"Enter Choice:\"))\n",
        "         mensel(choice)\n",
        "\n",
        "       def mensel(choice):\n",
        "        \n",
        "         #Update name of the item\n",
        "         if choice == 1:\n",
        "           print(\"Existing name:\",record[usr_id]['name'])\n",
        "           new_id = str(input(\"Enter the new name:\"))\n",
        "           record[usr_id]['name']= new_id\n",
        "\n",
        "           js=json.dumps(record)\n",
        "    \n",
        "           #Writing into json file\n",
        "           file=open('inventory_records.json','w')\n",
        "           file.write(js)\n",
        "           file.close()\n",
        "           print(\"Name sucessfully updated!!\")\n",
        "\n",
        "          #Update price of the item\n",
        "         elif choice == 2:\n",
        "           print(\"Existing price:\",record[usr_id]['price'])\n",
        "           new_id = int(input(\"Enter the new price:\"))\n",
        "           record[usr_id]['price']= new_id\n",
        "\n",
        "           js=json.dumps(record)\n",
        "    \n",
        "           #Writing into json file\n",
        "           file=open('inventory_records.json','w')\n",
        "           file.write(js)\n",
        "           file.close()\n",
        "           print(\"Price sucessfully updated!!\")\n",
        "\n",
        "          #Update description of the item.\n",
        "         elif choice == 3:\n",
        "           print(\"Existing description:\",record[usr_id]['desp'])\n",
        "           new_id = str(input(\"Enter the new description:\"))\n",
        "           record[usr_id]['desp']= new_id\n",
        "\n",
        "           js=json.dumps(record)\n",
        "    \n",
        "           #Writing into json file\n",
        "           file=open('inventory_records.json','w')\n",
        "           file.write(js)\n",
        "           file.close()\n",
        "           print(\"Description sucessfully updated!!\")\n",
        "\n",
        "          #Update stocks left\n",
        "         elif choice == 4:\n",
        "           print(\"Existing quantity:\",record[usr_id]['quantity'])\n",
        "           new_id = int(input(\"Enter the new stock:\"))\n",
        "           record[usr_id]['quantity']= new_id\n",
        "\n",
        "           js=json.dumps(record)\n",
        "    \n",
        "           #Writing into json file\n",
        "           file=open('inventory_records.json','w')\n",
        "           file.write(js) \n",
        "           file.close()\n",
        "           print(\"Stocks sucessfully updated!\")\n",
        "\n",
        "          #Update the type\n",
        "         elif choice == 5:\n",
        "           print(\"Existing type:\",record[usr_id]['type'])\n",
        "           new_id = str(input(\"Enter the new type:\"))\n",
        "           record[usr_id]['type']= new_id\n",
        "\n",
        "           js=json.dumps(record)\n",
        "    \n",
        "           #Writing into json file\n",
        "           file=open('inventory_records.json','w')\n",
        "           file.write(js)\n",
        "           file.close()\n",
        "           print(\"Type sucessfully updated\")\n",
        "          \n",
        "       upmenu()\n",
        "       ip=(input(\"Do you want to continue updating(y/n)?: \"))\n",
        "       if ip== 'y' or ip== 'Y':\n",
        "         upmenu()\n",
        "       else:\n",
        "         exit()\n",
        "  ip=(input(\"Do you want to continue with the main menu(y/n)?: \"))\n",
        "  if ip== 'y' or ip== 'Y':\n",
        "    menu()\n",
        "  else:\n",
        "    exit() \n"
      ],
      "execution_count": 11,
      "outputs": []
    },
    {
      "cell_type": "code",
      "metadata": {
        "id": "UuWWobgpEuxA",
        "colab": {
          "base_uri": "https://localhost:8080/"
        },
        "outputId": "d0447b03-3143-4f4a-fd5d-6bc0ea132570"
      },
      "source": [
        "#Call menu() function and run the program.\n",
        "menu()\n"
      ],
      "execution_count": 12,
      "outputs": [
        {
          "name": "stdout",
          "output_type": "stream",
          "text": [
            "---------------------------------------------------\n",
            "Welcome! What would you like to do today?\n",
            "---------------------------------------------------\n",
            "1: View total number of items\n",
            "2: View the list of the items\n",
            "3: Add product to inventory\n",
            "4: Know Sales\n",
            "5: Know the details of the stocks left\n",
            "6: Update Inventory\n",
            "7: Exit\n",
            "Enter choice: 1\n",
            "Total no of items in the inventory:  31\n",
            "Do you want to continue(y/n)?: y\n",
            "---------------------------------------------------\n",
            "Welcome! What would you like to do today?\n",
            "---------------------------------------------------\n",
            "1: View total number of items\n",
            "2: View the list of the items\n",
            "3: Add product to inventory\n",
            "4: Know Sales\n",
            "5: Know the details of the stocks left\n",
            "6: Update Inventory\n",
            "7: Exit\n",
            "Enter choice: 4\n",
            "Enter the id:101\n",
            "[{'date': '09/05/2021, 05:18:19', 'qn_sold': 5, 'st_left': 45, 'total': 75}, [{'date': '09/06/2021, 06:29:22', 'qn_sold': 3, 'stock_left': 45, 'total': 45}], [{'date': '09/06/2021, 06:29:22', 'qn_sold': 2, 'stock_left': 42, 'total': 30}]]\n",
            "Do you want to continue(y/n)?: y\n",
            "---------------------------------------------------\n",
            "Welcome! What would you like to do today?\n",
            "---------------------------------------------------\n",
            "1: View total number of items\n",
            "2: View the list of the items\n",
            "3: Add product to inventory\n",
            "4: Know Sales\n",
            "5: Know the details of the stocks left\n",
            "6: Update Inventory\n",
            "7: Exit\n",
            "Enter choice: 5\n",
            "Do you want to check the quantity of any product(y/n)y\n",
            "Please enter the product id: 105\n",
            "--------------------------------------------------------\n",
            "Product id:         | 105\n",
            "Product name:       | Venkys Frozen Nuggets\n",
            "Product price:      | 150\n",
            "--------------------------------------------------------\n",
            "Stocks left:        | 50\n",
            "--------------------------------------------------------\n",
            "Do you want to check the quantity of any product(y/n)n\n",
            "Do you want to continue(y/n)?: y\n",
            "---------------------------------------------------\n",
            "Welcome! What would you like to do today?\n",
            "---------------------------------------------------\n",
            "1: View total number of items\n",
            "2: View the list of the items\n",
            "3: Add product to inventory\n",
            "4: Know Sales\n",
            "5: Know the details of the stocks left\n",
            "6: Update Inventory\n",
            "7: Exit\n",
            "Enter choice: 9\n",
            "Enter the valid choice!\n",
            "---------------------------------------------------\n",
            "Welcome! What would you like to do today?\n",
            "---------------------------------------------------\n",
            "1: View total number of items\n",
            "2: View the list of the items\n",
            "3: Add product to inventory\n",
            "4: Know Sales\n",
            "5: Know the details of the stocks left\n",
            "6: Update Inventory\n",
            "7: Exit\n",
            "Enter choice: 7\n"
          ]
        }
      ]
    }
  ]
}